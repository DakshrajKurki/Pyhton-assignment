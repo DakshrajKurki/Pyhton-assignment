{
 "cells": [
  {
   "cell_type": "code",
   "execution_count": 12,
   "id": "bc8b7fbc-8de6-4690-ac5e-ca72a4840718",
   "metadata": {},
   "outputs": [
    {
     "name": "stdin",
     "output_type": "stream",
     "text": [
      "First number 28\n",
      "Second number 78\n"
     ]
    },
    {
     "name": "stdout",
     "output_type": "stream",
     "text": [
      "106\n",
      "-50\n",
      "2184\n",
      "0.358974358974359\n",
      "28\n",
      "75566001870440058564354986955430608812402950425434437230800154595256703924897732178068663940319933671682829451264\n",
      "0\n"
     ]
    }
   ],
   "source": [
    "# Question - 1\n",
    "str1 = int(input(\"First number\"))\n",
    "str2 = int(input(\"Second number\"))\n",
    "\n",
    "add = (str1+str2)                      # For addition\n",
    "print(add)\n",
    "\n",
    "sub = (str1-str2)                      # For subtraction\n",
    "print(sub)\n",
    "\n",
    "multiply = (str1*str2)                 # For multiplication \n",
    "print(multiply)\n",
    "\n",
    "divide = (str1/str2)                   # For divison\n",
    "print(divide)\n",
    "\n",
    "modulas = (str1%str2)                  # For modulas\n",
    "print(modulas)\n",
    "\n",
    "exponential = (str1**str2)             # For exponential \n",
    "print(exponential)\n",
    "\n",
    "floordivison  = (str1//str2)           # For floor divison\n",
    "print(floordivison)\n",
    "\n"
   ]
  },
  {
   "cell_type": "code",
   "execution_count": 14,
   "id": "bdec1b3f-40c5-4dd9-a61c-e587dd15a4d0",
   "metadata": {},
   "outputs": [
    {
     "name": "stdin",
     "output_type": "stream",
     "text": [
      "First number: 35\n",
      "Second number: 46\n"
     ]
    },
    {
     "name": "stdout",
     "output_type": "stream",
     "text": [
      "The num1 is less than num2\n"
     ]
    }
   ],
   "source": [
    "# Question - 2\n",
    "num1 = int(input(\"First number:\"))             # Input first number          \n",
    "num2 = int(input(\"Second number:\"))            # Input second number\n",
    "if num1 > num2:                                # num1 is greater\n",
    "    print(\"num1 is greater than num2\")         # Print num1 is greater than num2\n",
    "elif num1 == num2:                             # If number are equal\n",
    "    print(\"Both number are equal\")             # Print both numbers are equal\n",
    "else:\n",
    "    print(\"The num1 is less than num2\")        # If num1 is not greater or both the numbers are not equal than print num1 is less than num 2 "
   ]
  },
  {
   "cell_type": "code",
   "execution_count": 22,
   "id": "e642420b-07a1-482c-a05d-5198deb7dc13",
   "metadata": {},
   "outputs": [
    {
     "name": "stdin",
     "output_type": "stream",
     "text": [
      "enter a boolean value 1:- true\n",
      "enter a boolean value 2:- false\n",
      "enter a boolean value 3:- true\n"
     ]
    },
    {
     "name": "stdout",
     "output_type": "stream",
     "text": [
      "False\n",
      "True\n",
      "False\n",
      "True\n",
      "False\n"
     ]
    }
   ],
   "source": [
    "# Question - 3\n",
    "a = input(\"enter a boolean value 1:-\").strip().lower()==\"true\"  # Strip() will clear all white spaces and lower will help to remove indentation\n",
    "b = input(\"enter a boolean value 2:-\").strip().lower()==\"true\"\n",
    "c = input(\"enter a boolean value 3:-\").strip().lower()==\"true\"\n",
    "print(a and b and c)\n",
    "print(a or b or c)\n",
    "print(not a)\n",
    "print(not b)\n",
    "print(not c)"
   ]
  },
  {
   "cell_type": "code",
   "execution_count": 24,
   "id": "bc9834db-16a4-483e-af6a-e8f2fa786c4b",
   "metadata": {},
   "outputs": [
    {
     "name": "stdin",
     "output_type": "stream",
     "text": [
      "Enter a word:  Dakshraj\n"
     ]
    },
    {
     "name": "stdout",
     "output_type": "stream",
     "text": [
      "8\n",
      "('D', 'j')\n",
      "jarhskaD\n",
      "DAKSHRAJ\n",
      "dakshraj\n"
     ]
    }
   ],
   "source": [
    "# Question - 4\n",
    "str1 = input('Enter a word: ')            # Input a word from the user\n",
    "a = len(str1)                             # Get the length of the string\n",
    "print(a)                                   \n",
    "\n",
    "b = str1[:1],str1[-1]                     # To get the first and last character of the string\n",
    "print(b)\n",
    "\n",
    "c = str1[::-1]                            # TO get the first and last character of the string\n",
    "print(c)\n",
    "\n",
    "d = str1.upper()                          # To reverse the string\n",
    "print(d)\n",
    "\n",
    "e = str1.lower()                          # To convert the string to lowercase\n",
    "print(e)"
   ]
  },
  {
   "cell_type": "code",
   "execution_count": 26,
   "id": "e16e5f1f-9d5a-4f76-8dca-07eb3663e02e",
   "metadata": {},
   "outputs": [
    {
     "name": "stdin",
     "output_type": "stream",
     "text": [
      "Enter your name:  dakshraj\n",
      "Enter your age:  17\n"
     ]
    },
    {
     "name": "stdout",
     "output_type": "stream",
     "text": [
      "Hello dakshraj ,you are 17 years old.\n"
     ]
    }
   ],
   "source": [
    "# Question - 5\n",
    "name = input(\"Enter your name: \")                     # Input user's name\n",
    "age = input(\"Enter your age: \")                       # Input user's age\n",
    "print(\"Hello\",name, \",you are\",age,\"years old.\")      # To print name and age together in a sentence "
   ]
  },
  {
   "cell_type": "code",
   "execution_count": 28,
   "id": "1f9f8e38-04a4-4a90-9d0c-1b30e843e8ec",
   "metadata": {},
   "outputs": [
    {
     "name": "stdin",
     "output_type": "stream",
     "text": [
      "Enter a sentence:  I am going to the college\n",
      "Enter a word to search:  daksh\n"
     ]
    },
    {
     "name": "stdout",
     "output_type": "stream",
     "text": [
      "Word not found\n"
     ]
    }
   ],
   "source": [
    "# Question - 6\n",
    "str1 = input(\"Enter a sentence: \")                    # Taking input from the user for sentence\n",
    "str2 = input(\"Enter a word to search: \")              # Taking input from the user for word\n",
    "\n",
    "if str2 in str1:\n",
    "    print(str1.index(word))                           # To get index of the word\n",
    "else:\n",
    "    print(\"Word not found\")                           #"
   ]
  },
  {
   "cell_type": "code",
   "execution_count": 30,
   "id": "5580c3a3-06ab-47ce-a486-2ade5171ce42",
   "metadata": {},
   "outputs": [
    {
     "name": "stdin",
     "output_type": "stream",
     "text": [
      "enter a number:  56\n"
     ]
    },
    {
     "name": "stdout",
     "output_type": "stream",
     "text": [
      "[56]\n"
     ]
    },
    {
     "name": "stdin",
     "output_type": "stream",
     "text": [
      "enter a number:  67\n"
     ]
    },
    {
     "name": "stdout",
     "output_type": "stream",
     "text": [
      "[56, 67]\n"
     ]
    },
    {
     "name": "stdin",
     "output_type": "stream",
     "text": [
      "enter a number:  89\n"
     ]
    },
    {
     "name": "stdout",
     "output_type": "stream",
     "text": [
      "[56, 67, 89]\n",
      "212\n",
      "89\n",
      "56\n"
     ]
    }
   ],
   "source": [
    "# Question - 7\n",
    "num1 = []                                          # Making an empty list to store numbers \n",
    "for i in range(1,4):                               # For the input of three numbers  \n",
    "    num2 = int(input('enter a number: '))          # Input of the number\n",
    "    num1.append(num2)                              # For adding the number in the list\n",
    "    print(num1)                                    # For printing thr current list\n",
    "num3 = sum(num1)                                   # For doing addition\n",
    "print(num3)\n",
    "\n",
    "num4 = max(num1)                                   # For the highest value\n",
    "print(num4)\n",
    "\n",
    "num5 = min(num1)                                   # For the lowest value\n",
    "print(num5)"
   ]
  },
  {
   "cell_type": "code",
   "execution_count": 32,
   "id": "599fb2b1-a8dd-4d09-b299-caf8c368dbff",
   "metadata": {},
   "outputs": [
    {
     "name": "stdin",
     "output_type": "stream",
     "text": [
      "Your Favorite Fruit 1: watermelon\n",
      "Your Favorite Fruit 2: pineapple\n"
     ]
    },
    {
     "name": "stdout",
     "output_type": "stream",
     "text": [
      "The First list:['watermelon', 'pineapple']\n"
     ]
    },
    {
     "name": "stdin",
     "output_type": "stream",
     "text": [
      "Enter the other fruit you want to add: mango\n"
     ]
    },
    {
     "name": "stdout",
     "output_type": "stream",
     "text": [
      "added fruit list:['watermelon', 'pineapple', 'mango']\n",
      "The removed and updated list of fruits:['watermelon', 'mango']\n"
     ]
    }
   ],
   "source": [
    "# Question - 8\n",
    "str1 = []                                                   # Empty list to store our favroite fruits\n",
    "for i in range(2):                                          # For the loop of 2 favroite fruits\n",
    "    str2 = input(f\"Your Favorite Fruit {i+1}:\")             # Input of favroite fruits \n",
    "    str1.append(str2)                                       # For adding that favroite fruit in the list\n",
    "print(f\"The First list:{str1}\")                             \n",
    "str3 = input(\"Enter the other fruit you want to add:\")      # Another input for the favroite fruit in the list\n",
    "str1.append(str3)                                           # For that fruit in the list\n",
    "print(f\"added fruit list:{str1}\")                           \n",
    "str4 = str1.pop(1)                                          # To remove the second fruit from the list\n",
    "print(f\"The removed and updated list of fruits:{str1}\")"
   ]
  },
  {
   "cell_type": "code",
   "execution_count": 34,
   "id": "89340bb0-c57c-4858-92c3-6e21ff1761c3",
   "metadata": {},
   "outputs": [
    {
     "name": "stdout",
     "output_type": "stream",
     "text": [
      "Please enter 5 numbers:\n"
     ]
    },
    {
     "name": "stdin",
     "output_type": "stream",
     "text": [
      "Enter number 1:  56\n",
      "Enter number 2:  67\n",
      "Enter number 3:  34\n",
      "Enter number 4:  23\n",
      "Enter number 5:  12\n"
     ]
    },
    {
     "name": "stdout",
     "output_type": "stream",
     "text": [
      "Numbers in ascending order: [12, 23, 34, 56, 67]\n",
      "Numbers in descending order: [67, 56, 34, 23, 12]\n"
     ]
    }
   ],
   "source": [
    "# Question - 9\n",
    "numbers = []                                          # Empty list for storing numbers\n",
    "print(\"Please enter 5 numbers:\")                      # Input of 5 numbers \n",
    "for i in range(5):                                    # Loop of 5 numbers\n",
    "    num1 = int(input(f\"Enter number {i+1}: \"))        # Input a number\n",
    "    numbers.append(num1)                              # To add that number in the list \n",
    "asec = sorted(numbers)                                # To sort them in asecding order\n",
    "print(\"Numbers in ascending order:\", asec)\n",
    "desc = sorted(numbers, reverse=True)                  # To sort them in descending order\n",
    "print(\"Numbers in descending order:\", desc)"
   ]
  },
  {
   "cell_type": "code",
   "execution_count": 36,
   "id": "ee4569b0-a0e1-418d-9f86-f219b579ebf6",
   "metadata": {},
   "outputs": [
    {
     "name": "stdout",
     "output_type": "stream",
     "text": [
      "['1', '2', '3', '4', '5']\n",
      "['6', '7', '8', '9', '10']\n",
      "['3', '4', '5', '6', '7', '8']\n"
     ]
    }
   ],
   "source": [
    "# Question - 10\n",
    "list1 = [\"1\",\"2\",\"3\",\"4\",\"5\",\"6\",\"7\",\"8\",\"9\",\"10\"]    \n",
    "x = list1 [:5]                                        # Extracts the first 5 elements from list1\n",
    "print(x)\n",
    "\n",
    "y=list1 [-5:]                                         # Extracts the last 5 elements from list1\n",
    "print(y)\n",
    "\n",
    "z=list1 [2:8]                                         # Extracts elements from index 2 to 7 (index 8 is not included)\n",
    "print(z)\n"
   ]
  },
  {
   "cell_type": "code",
   "execution_count": 10,
   "id": "f88c4bfa-e54e-40f6-a927-82dd7ea331c9",
   "metadata": {},
   "outputs": [
    {
     "name": "stdin",
     "output_type": "stream",
     "text": [
      "Enter Student Name daksh\n",
      "Subjects mark 90\n",
      "Subjects mark 96\n",
      "Subjects mark 98\n",
      "Enter Student Name Nikhil\n",
      "Subjects mark 78\n",
      "Subjects mark 89\n",
      "Subjects mark 89\n",
      "Enter Student Name Tejas\n",
      "Subjects mark 89\n",
      "Subjects mark 90\n",
      "Subjects mark 89\n"
     ]
    },
    {
     "name": "stdout",
     "output_type": "stream",
     "text": [
      "[['daksh', [90, 96, 98]], ['Nikhil', [78, 89, 89]], ['Tejas', [89, 90, 89]]]\n",
      "daksh 's average score is  94.66666666666667\n",
      "Nikhil 's average score is  85.33333333333333\n",
      "Tejas 's average score is  89.33333333333333\n"
     ]
    }
   ],
   "source": [
    "# Question - 11\n",
    "a=[]\n",
    "for i in range(3):\n",
    "    b=input(\"Enter Student Name\")\n",
    "    c=[]\n",
    "    for j in range(3):\n",
    "        d=int(input(\"Subjects mark\"))\n",
    "        c.append(d)\n",
    "    a.append([b,c])\n",
    "print(a)\n",
    "for k in a:\n",
    "    avg=sum(k[1])/len(k[1])\n",
    "    print((k[0]),\"'s average score is \",(avg))"
   ]
  },
  {
   "cell_type": "code",
   "execution_count": null,
   "id": "a98b40bb-f817-4fb0-b419-0a2adab6b6ee",
   "metadata": {},
   "outputs": [],
   "source": []
  }
 ],
 "metadata": {
  "kernelspec": {
   "display_name": "Python 3 (ipykernel)",
   "language": "python",
   "name": "python3"
  },
  "language_info": {
   "codemirror_mode": {
    "name": "ipython",
    "version": 3
   },
   "file_extension": ".py",
   "mimetype": "text/x-python",
   "name": "python",
   "nbconvert_exporter": "python",
   "pygments_lexer": "ipython3",
   "version": "3.12.4"
  }
 },
 "nbformat": 4,
 "nbformat_minor": 5
}
